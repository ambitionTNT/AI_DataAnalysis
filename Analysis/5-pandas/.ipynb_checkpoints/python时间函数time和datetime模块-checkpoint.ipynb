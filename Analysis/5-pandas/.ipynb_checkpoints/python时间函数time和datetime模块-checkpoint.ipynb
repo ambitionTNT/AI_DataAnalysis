{
 "cells": [
  {
   "cell_type": "markdown",
   "metadata": {},
   "source": [
    "Python 中提供了对时间日期的多种多样的处理方式，主要是在 time 和 datetime 这两个模块里"
   ]
  },
  {
   "cell_type": "markdown",
   "metadata": {},
   "source": [
    "# 一、time模块\n",
    "\n",
    "不牵扯时区的问题,便于计算\n",
    "- a、timestamp时间戳，时间戳表示的是从1970年1月1日00:00:00开始按秒计算的偏移量\n",
    "\n",
    "- b、struct_time时间元组，共有九个元素组。\n",
    "\n",
    "- c、format time 格式化时间，已格式化的结构使时间更具可读性。包括自定义格式和固定格式。\n",
    "\n",
    "1、时间格式转换图：\n",
    "\n",
    "<img src=\"images/20220413230207.png\" width=\"60%\">\n",
    "\n",
    "主要time生成方法和time格式转换方法实例："
   ]
  },
  {
   "cell_type": "markdown",
   "metadata": {},
   "source": [
    "## struct_time元组元素结构\n",
    "\n",
    "属性                            值\n",
    "- tm_year（年）                  比如2011 \n",
    "- tm_mon（月）                   1 - 12\n",
    "- tm_mday（日）                  1 - 31\n",
    "- tm_hour（时）                  0 - 23\n",
    "- tm_min（分）                   0 - 59\n",
    "- tm_sec（秒）                   0 - 61\n",
    "- tm_wday（weekday）             0 - 6（0表示周日）\n",
    "- tm_yday（一年中的第几天）        1 - 366\n",
    "- tm_isdst（是否是夏令时）        默认为-1\n",
    "\n",
    "作用:\n",
    "- 取得 时间戳/时间格式的字符串 中对应的 年/月/日等信息\n",
    "- 作为时间戳和字符串时间之间的桥梁"
   ]
  },
  {
   "cell_type": "markdown",
   "metadata": {},
   "source": [
    "## format time结构化表示\n",
    "\n",
    "格式 \t含义\n",
    "\n",
    "- %Y -年[0001，...，2018，2019，...，9999]\n",
    "- %m -月[01，02，...，11，12]\n",
    "- %d -天[01，02，...，30，31]\n",
    "- %H -小时[00，01，...，22，23\n",
    "- %M -分钟[00，01，...，58，59]\n",
    "- %S -秒[00，01，...，58，61]\n",
    "- %X \t本地相应时间\n",
    "- %y \t去掉世纪的年份（00 - 99）"
   ]
  },
  {
   "cell_type": "markdown",
   "metadata": {},
   "source": [
    "### 常见结构化时间组合"
   ]
  },
  {
   "cell_type": "markdown",
   "metadata": {},
   "source": [
    "time运算"
   ]
  },
  {
   "cell_type": "markdown",
   "metadata": {},
   "source": [
    "### 1.date类\n",
    "`datetime.date(year, month, day)`\n",
    "\n",
    "静态方法和字段\n",
    "\n",
    "- date.today()：返回一个表示当前本地日期的date对象；\n",
    "- date.fromtimestamp(timestamp)：根据给定的时间戮，返回一个date对象；"
   ]
  },
  {
   "cell_type": "code",
   "execution_count": 1,
   "metadata": {},
   "outputs": [
    {
     "name": "stdout",
     "output_type": "stream",
     "text": [
      "date.today(): 2022-11-24\n",
      "date.fromtimestamp(): 2022-11-24\n"
     ]
    }
   ],
   "source": [
    "from datetime import date\n",
    "import time\n",
    "print('date.today():', date.today())\n",
    "print('date.fromtimestamp():', date.fromtimestamp(time.time()))"
   ]
  },
  {
   "cell_type": "code",
   "execution_count": null,
   "metadata": {},
   "outputs": [],
   "source": [
    "from datetime import date\n",
    "print(type(date.fromtimestamp(1650177058)))\n",
    "print(date.fromtimestamp(1650177058))"
   ]
  },
  {
   "cell_type": "markdown",
   "metadata": {},
   "source": [
    "### 方法和属性\n",
    "`d1 = date(2011,06,03) #date对象`\n",
    "- d1.year、date.month、date.day：年、月、日；\n",
    "- d1.replace(year, month, day)：生成一个新的日期对象，用参数指定的年，月，日代替原有对象中的属性。（原有对象仍保持不变）\n",
    "- d1.timetuple()：返回日期对应的time.struct_time对象；\n",
    "- d1.weekday()：返回weekday，如果是星期一，返回0；如果是星期2，返回1，以此类推；\n",
    "- d1.isoweekday()：返回weekday，如果是星期一，返回1；如果是星期2，返回2，以此类推；\n",
    "- d1.isoformat()：返回格式如'YYYY-MM-DD’的字符串；\n",
    "- d1.strftime(fmt)：和time模块format相同。"
   ]
  },
  {
   "cell_type": "code",
   "execution_count": null,
   "metadata": {},
   "outputs": [],
   "source": [
    "now = date.today()\n",
    "now\n",
    "print(now.replace(day=1))"
   ]
  },
  {
   "cell_type": "code",
   "execution_count": null,
   "metadata": {},
   "outputs": [],
   "source": [
    "date.today().replace(day=1)"
   ]
  },
  {
   "cell_type": "code",
   "execution_count": null,
   "metadata": {},
   "outputs": [],
   "source": [
    "now"
   ]
  },
  {
   "cell_type": "code",
   "execution_count": null,
   "metadata": {},
   "outputs": [],
   "source": [
    "now.isoformat()"
   ]
  },
  {
   "cell_type": "code",
   "execution_count": null,
   "metadata": {},
   "outputs": [],
   "source": [
    "now.isoweekday()"
   ]
  },
  {
   "cell_type": "code",
   "execution_count": null,
   "metadata": {},
   "outputs": [],
   "source": [
    "#'2022.04.18'  自定义输出格式\n",
    "now.strftime('%Y.%m.%d')"
   ]
  },
  {
   "cell_type": "code",
   "execution_count": null,
   "metadata": {},
   "outputs": [],
   "source": [
    "now = date(2021, 10, 26)\n",
    "print(now.year,now.month,now.day)\n",
    "tomorrow = now.replace(day = 1)\n",
    "print('now:', now, ', 当月第一天:', tomorrow)\n",
    "print('timetuple():', now.timetuple()) \n",
    "print('weekday():', now.weekday())\n",
    "print('isoweekday():', now.isoweekday())\n",
    "print('isoformat():', now.isoformat())\n",
    "print('strftime():', now.strftime(\"%Y.%m.%d\")) "
   ]
  },
  {
   "cell_type": "markdown",
   "metadata": {},
   "source": [
    "### datetime类\n",
    "\n",
    "datetime相当于date和time结合起来。\n",
    "\n",
    "`datetime.datetime (year, month, day[ , hour[ , minute[ , second[ , microsecond[ , tzinfo] ] ] ] ] )`"
   ]
  },
  {
   "cell_type": "markdown",
   "metadata": {},
   "source": [
    "#### 静态方法\n",
    "- datetime.today()：返回一个表示当前本地时间的datetime对象；\n",
    "- datetime.now([tz])：返回一个表示当前本地时间的datetime对象，如果提供了参数tz，则获取tz参数所指时区的本地时间；\n",
    "- datetime.fromtimestamp(timestamp[, tz])：根据时间戮创建一个datetime对象，参数tz指定时区信息；\n",
    "- datetime.strptime(date_string, format)：将格式字符串转换为datetime对象；"
   ]
  },
  {
   "cell_type": "code",
   "execution_count": null,
   "metadata": {},
   "outputs": [],
   "source": [
    "from  datetime import datetime\n",
    "now = datetime.now()\n",
    "print(type(now))\n",
    "# 将datetime转化为指定格式的字符串\n",
    "print(now.strftime('%Y-%m-%d %X'))\n",
    "print(now.strftime('%Y-%m-%d %H:%M'))"
   ]
  },
  {
   "cell_type": "code",
   "execution_count": null,
   "metadata": {},
   "outputs": [],
   "source": [
    "# '2021-11-25 10:23' ,使用strptime 将字符串转datetime\n",
    "my_str = '2021-11-10 10:23'\n",
    "print(datetime.strptime(my_str,'%Y-%m-%d %H:%M'))\n",
    "\n",
    "# 需要注意,将字符串转化为datetime数据类型,格式需要统一.\n",
    "my_str = '10/11/2021 10:23'\n",
    "datetime.strptime(my_str,'%d/%m/%Y %H:%M')"
   ]
  },
  {
   "cell_type": "code",
   "execution_count": null,
   "metadata": {},
   "outputs": [],
   "source": [
    "from  datetime import *\n",
    "import time\n",
    "now = datetime.now()\n",
    "print('today():', datetime.today())\n",
    "print('now():', datetime.now())\n",
    "print('fromtimestamp(tmstmp):', datetime.fromtimestamp(time.time()))   \n",
    "print('datetime.strptime(date_string, format):',datetime.strptime('2022-03-21', \"%Y-%m-%d\"))  "
   ]
  },
  {
   "cell_type": "code",
   "execution_count": null,
   "metadata": {},
   "outputs": [],
   "source": []
  },
  {
   "cell_type": "markdown",
   "metadata": {},
   "source": [
    "## timedelta类，时间加减\n",
    "\n",
    "使用timedelta可以很方便的在日期上做天days，小时hour，分钟，秒，毫秒，微妙的时间计算，如果要计算月份则需要另外的办法"
   ]
  },
  {
   "cell_type": "code",
   "execution_count": null,
   "metadata": {
    "scrolled": true
   },
   "outputs": [],
   "source": [
    "from  datetime import datetime\n",
    "from  datetime import timedelta\n",
    "dt = datetime.now()\n",
    "#日期减一天\n",
    "dt_1 = dt + timedelta(days=-1)#昨天\n",
    "\n",
    "dt_11 = dt - timedelta(days=1)#昨天\n",
    "\n",
    "dt3 = dt + timedelta(days=1)#明天\n",
    "\n",
    "print(\"dt3:\",dt_1)\n",
    "\n",
    "print(\"dt_11:\",dt_11)\n",
    "\n",
    "print(\"dt3:\",dt3)"
   ]
  },
  {
   "cell_type": "code",
   "execution_count": null,
   "metadata": {},
   "outputs": [],
   "source": [
    "# 明天的datetime  - 昨天的datetime\n",
    "s= dt3 - dt_1\n",
    "print(s.days)\n",
    "print(s.total_seconds())"
   ]
  },
  {
   "cell_type": "code",
   "execution_count": null,
   "metadata": {},
   "outputs": [],
   "source": [
    "delta_obj = dt3-dt\n",
    "print(type(delta_obj),delta_obj)#<type 'datetime.timedelta'> 1 day, 0:00:00\n",
    "# total_seconds():返回在该时间实例的给定持续时间内覆盖的总秒数\n",
    "print(delta_obj.days ,delta_obj.total_seconds())#1 86400.0"
   ]
  },
  {
   "cell_type": "code",
   "execution_count": null,
   "metadata": {},
   "outputs": [],
   "source": []
  }
 ],
 "metadata": {
  "kernelspec": {
   "display_name": "Python 3",
   "language": "python",
   "name": "python3"
  },
  "language_info": {
   "codemirror_mode": {
    "name": "ipython",
    "version": 3
   },
   "file_extension": ".py",
   "mimetype": "text/x-python",
   "name": "python",
   "nbconvert_exporter": "python",
   "pygments_lexer": "ipython3",
   "version": "3.7.6"
  }
 },
 "nbformat": 4,
 "nbformat_minor": 4
}
