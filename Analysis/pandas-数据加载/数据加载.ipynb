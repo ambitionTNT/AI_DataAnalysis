{
 "cells": [
  {
   "cell_type": "markdown",
   "metadata": {},
   "source": [
    "### pandas提供了一些用于将表格型数据读取为DataFrame对象的函数，期中read_csv和read_table这两个使用最多"
   ]
  },
  {
   "cell_type": "markdown",
   "metadata": {},
   "source": [
    "首先使用linux指令查看文本文件 !cat"
   ]
  },
  {
   "cell_type": "code",
   "execution_count": null,
   "metadata": {
    "collapsed": true
   },
   "outputs": [],
   "source": []
  },
  {
   "cell_type": "markdown",
   "metadata": {},
   "source": [
    "使用read_csv将其读入"
   ]
  },
  {
   "cell_type": "code",
   "execution_count": 2,
   "metadata": {},
   "outputs": [],
   "source": [
    "import numpy as np\n",
    "import pandas as pd\n",
    "from pandas import Series,DataFrame"
   ]
  },
  {
   "cell_type": "code",
   "execution_count": 6,
   "metadata": {},
   "outputs": [
    {
     "data": {
      "text/html": [
       "<div>\n",
       "<style scoped>\n",
       "    .dataframe tbody tr th:only-of-type {\n",
       "        vertical-align: middle;\n",
       "    }\n",
       "\n",
       "    .dataframe tbody tr th {\n",
       "        vertical-align: top;\n",
       "    }\n",
       "\n",
       "    .dataframe thead th {\n",
       "        text-align: right;\n",
       "    }\n",
       "</style>\n",
       "<table border=\"1\" class=\"dataframe\">\n",
       "  <thead>\n",
       "    <tr style=\"text-align: right;\">\n",
       "      <th></th>\n",
       "      <th>0</th>\n",
       "      <th>1</th>\n",
       "      <th>2</th>\n",
       "      <th>3</th>\n",
       "      <th>4</th>\n",
       "      <th>5</th>\n",
       "      <th>6</th>\n",
       "      <th>7</th>\n",
       "      <th>8</th>\n",
       "    </tr>\n",
       "  </thead>\n",
       "  <tbody>\n",
       "    <tr>\n",
       "      <th>0</th>\n",
       "      <td>word</td>\n",
       "      <td>precious</td>\n",
       "      <td>things</td>\n",
       "      <td>are</td>\n",
       "      <td>very</td>\n",
       "      <td>few</td>\n",
       "      <td>in</td>\n",
       "      <td>the</td>\n",
       "      <td>world</td>\n",
       "    </tr>\n",
       "    <tr>\n",
       "      <th>1</th>\n",
       "      <td>that</td>\n",
       "      <td>is</td>\n",
       "      <td>the</td>\n",
       "      <td>reason</td>\n",
       "      <td>there</td>\n",
       "      <td>is</td>\n",
       "      <td>only</td>\n",
       "      <td>one</td>\n",
       "      <td>you!</td>\n",
       "    </tr>\n",
       "  </tbody>\n",
       "</table>\n",
       "</div>"
      ],
      "text/plain": [
       "      0         1       2       3      4    5     6    7      8\n",
       "0  word  precious  things     are   very  few    in  the  world\n",
       "1  that        is     the  reason  there   is  only  one   you!"
      ]
     },
     "execution_count": 6,
     "metadata": {},
     "output_type": "execute_result"
    }
   ],
   "source": [
    "pd.read_table('data/table', header = None)"
   ]
  },
  {
   "cell_type": "code",
   "execution_count": 7,
   "metadata": {},
   "outputs": [
    {
     "data": {
      "text/html": [
       "<div>\n",
       "<style scoped>\n",
       "    .dataframe tbody tr th:only-of-type {\n",
       "        vertical-align: middle;\n",
       "    }\n",
       "\n",
       "    .dataframe tbody tr th {\n",
       "        vertical-align: top;\n",
       "    }\n",
       "\n",
       "    .dataframe thead th {\n",
       "        text-align: right;\n",
       "    }\n",
       "</style>\n",
       "<table border=\"1\" class=\"dataframe\">\n",
       "  <thead>\n",
       "    <tr style=\"text-align: right;\">\n",
       "      <th></th>\n",
       "      <th>word\\tprecious\\tthings\\tare\\tvery\\tfew\\tin\\tthe\\tworld</th>\n",
       "    </tr>\n",
       "  </thead>\n",
       "  <tbody>\n",
       "    <tr>\n",
       "      <th>0</th>\n",
       "      <td>that\\tis\\tthe\\treason\\tthere\\tis\\tonly\\tone\\tyou!</td>\n",
       "    </tr>\n",
       "  </tbody>\n",
       "</table>\n",
       "</div>"
      ],
      "text/plain": [
       "  word\\tprecious\\tthings\\tare\\tvery\\tfew\\tin\\tthe\\tworld\n",
       "0  that\\tis\\tthe\\treason\\tthere\\tis\\tonly\\tone\\tyou!    "
      ]
     },
     "execution_count": 7,
     "metadata": {},
     "output_type": "execute_result"
    }
   ],
   "source": [
    "pd.read_csv('data/table')#沒有用分割符分开"
   ]
  },
  {
   "cell_type": "code",
   "execution_count": 10,
   "metadata": {},
   "outputs": [
    {
     "data": {
      "text/html": [
       "<div>\n",
       "<style scoped>\n",
       "    .dataframe tbody tr th:only-of-type {\n",
       "        vertical-align: middle;\n",
       "    }\n",
       "\n",
       "    .dataframe tbody tr th {\n",
       "        vertical-align: top;\n",
       "    }\n",
       "\n",
       "    .dataframe thead th {\n",
       "        text-align: right;\n",
       "    }\n",
       "</style>\n",
       "<table border=\"1\" class=\"dataframe\">\n",
       "  <thead>\n",
       "    <tr style=\"text-align: right;\">\n",
       "      <th></th>\n",
       "      <th></th>\n",
       "      <th></th>\n",
       "      <th></th>\n",
       "      <th>A</th>\n",
       "      <th>B</th>\n",
       "      <th>C</th>\n",
       "      <th>D</th>\n",
       "      <th>E</th>\n",
       "    </tr>\n",
       "  </thead>\n",
       "  <tbody>\n",
       "    <tr>\n",
       "      <th>word</th>\n",
       "      <th>precious</th>\n",
       "      <th>things</th>\n",
       "      <th>are</th>\n",
       "      <td>very</td>\n",
       "      <td>few</td>\n",
       "      <td>in</td>\n",
       "      <td>the</td>\n",
       "      <td>world</td>\n",
       "    </tr>\n",
       "    <tr>\n",
       "      <th>that</th>\n",
       "      <th>is</th>\n",
       "      <th>the</th>\n",
       "      <th>reason</th>\n",
       "      <td>there</td>\n",
       "      <td>is</td>\n",
       "      <td>only</td>\n",
       "      <td>one</td>\n",
       "      <td>you!</td>\n",
       "    </tr>\n",
       "  </tbody>\n",
       "</table>\n",
       "</div>"
      ],
      "text/plain": [
       "                                 A    B     C    D      E\n",
       "word precious things are      very  few    in  the  world\n",
       "that is       the    reason  there   is  only  one   you!"
      ]
     },
     "execution_count": 10,
     "metadata": {},
     "output_type": "execute_result"
    }
   ],
   "source": [
    "#使用分割符分开\n",
    "pd.read_csv('data/table', sep = '\\t', header = None, names = list('ABCDE'))"
   ]
  },
  {
   "cell_type": "code",
   "execution_count": 11,
   "metadata": {},
   "outputs": [],
   "source": [
    "import sqlite3"
   ]
  },
  {
   "cell_type": "code",
   "execution_count": 15,
   "metadata": {},
   "outputs": [
    {
     "data": {
      "text/plain": [
       "(26352, 9)"
      ]
     },
     "execution_count": 15,
     "metadata": {},
     "output_type": "execute_result"
    }
   ],
   "source": [
    "conn = sqlite3.Connection('data.sqlite')\n",
    "df = pd.read_sql('select * from Weather_2017',conn) \n",
    "df.shape"
   ]
  },
  {
   "cell_type": "code",
   "execution_count": 16,
   "metadata": {},
   "outputs": [
    {
     "data": {
      "text/html": [
       "<div>\n",
       "<style scoped>\n",
       "    .dataframe tbody tr th:only-of-type {\n",
       "        vertical-align: middle;\n",
       "    }\n",
       "\n",
       "    .dataframe tbody tr th {\n",
       "        vertical-align: top;\n",
       "    }\n",
       "\n",
       "    .dataframe thead th {\n",
       "        text-align: right;\n",
       "    }\n",
       "</style>\n",
       "<table border=\"1\" class=\"dataframe\">\n",
       "  <thead>\n",
       "    <tr style=\"text-align: right;\">\n",
       "      <th></th>\n",
       "      <th>index</th>\n",
       "      <th>Date/Time</th>\n",
       "      <th>Temp (C)</th>\n",
       "      <th>Dew Point Temp (C)</th>\n",
       "      <th>Rel Hum (%)</th>\n",
       "      <th>Wind Spd (km/h)</th>\n",
       "      <th>Visibility (km)</th>\n",
       "      <th>Stn Press (kPa)</th>\n",
       "      <th>Weather</th>\n",
       "    </tr>\n",
       "  </thead>\n",
       "  <tbody>\n",
       "    <tr>\n",
       "      <th>0</th>\n",
       "      <td>0</td>\n",
       "      <td>2012-01-01 00:00:00</td>\n",
       "      <td>-1.8</td>\n",
       "      <td>-3.9</td>\n",
       "      <td>86</td>\n",
       "      <td>4</td>\n",
       "      <td>8.0</td>\n",
       "      <td>101.24</td>\n",
       "      <td>Fog</td>\n",
       "    </tr>\n",
       "    <tr>\n",
       "      <th>1</th>\n",
       "      <td>1</td>\n",
       "      <td>2012-01-01 01:00:00</td>\n",
       "      <td>-1.8</td>\n",
       "      <td>-3.7</td>\n",
       "      <td>87</td>\n",
       "      <td>4</td>\n",
       "      <td>8.0</td>\n",
       "      <td>101.24</td>\n",
       "      <td>Fog</td>\n",
       "    </tr>\n",
       "    <tr>\n",
       "      <th>2</th>\n",
       "      <td>2</td>\n",
       "      <td>2012-01-01 02:00:00</td>\n",
       "      <td>-1.8</td>\n",
       "      <td>-3.4</td>\n",
       "      <td>89</td>\n",
       "      <td>7</td>\n",
       "      <td>4.0</td>\n",
       "      <td>101.26</td>\n",
       "      <td>Freezing Drizzle,Fog</td>\n",
       "    </tr>\n",
       "    <tr>\n",
       "      <th>3</th>\n",
       "      <td>3</td>\n",
       "      <td>2012-01-01 03:00:00</td>\n",
       "      <td>-1.5</td>\n",
       "      <td>-3.2</td>\n",
       "      <td>88</td>\n",
       "      <td>6</td>\n",
       "      <td>4.0</td>\n",
       "      <td>101.27</td>\n",
       "      <td>Freezing Drizzle,Fog</td>\n",
       "    </tr>\n",
       "    <tr>\n",
       "      <th>4</th>\n",
       "      <td>4</td>\n",
       "      <td>2012-01-01 04:00:00</td>\n",
       "      <td>-1.5</td>\n",
       "      <td>-3.3</td>\n",
       "      <td>88</td>\n",
       "      <td>7</td>\n",
       "      <td>4.8</td>\n",
       "      <td>101.23</td>\n",
       "      <td>Fog</td>\n",
       "    </tr>\n",
       "  </tbody>\n",
       "</table>\n",
       "</div>"
      ],
      "text/plain": [
       "   index            Date/Time  Temp (C)  Dew Point Temp (C)  Rel Hum (%)  \\\n",
       "0      0  2012-01-01 00:00:00      -1.8                -3.9           86   \n",
       "1      1  2012-01-01 01:00:00      -1.8                -3.7           87   \n",
       "2      2  2012-01-01 02:00:00      -1.8                -3.4           89   \n",
       "3      3  2012-01-01 03:00:00      -1.5                -3.2           88   \n",
       "4      4  2012-01-01 04:00:00      -1.5                -3.3           88   \n",
       "\n",
       "   Wind Spd (km/h)  Visibility (km)  Stn Press (kPa)               Weather  \n",
       "0                4              8.0           101.24                   Fog  \n",
       "1                4              8.0           101.24                   Fog  \n",
       "2                7              4.0           101.26  Freezing Drizzle,Fog  \n",
       "3                6              4.0           101.27  Freezing Drizzle,Fog  \n",
       "4                7              4.8           101.23                   Fog  "
      ]
     },
     "execution_count": 16,
     "metadata": {},
     "output_type": "execute_result"
    }
   ],
   "source": [
    "df.head()"
   ]
  },
  {
   "cell_type": "code",
   "execution_count": 20,
   "metadata": {},
   "outputs": [
    {
     "name": "stderr",
     "output_type": "stream",
     "text": [
      "D:\\Anaconda\\lib\\site-packages\\pandas\\core\\generic.py:2663: UserWarning: The spaces in these column names will not be changed. In pandas versions < 0.14, spaces were converted to underscores.\n",
      "  method=method,\n"
     ]
    }
   ],
   "source": [
    "df.to_sql('Weather_2018_', conn,  index = False, chunksize = 2048)"
   ]
  },
  {
   "cell_type": "code",
   "execution_count": null,
   "metadata": {},
   "outputs": [],
   "source": []
  },
  {
   "cell_type": "markdown",
   "metadata": {},
   "source": [
    "使用read_table读取"
   ]
  },
  {
   "cell_type": "markdown",
   "metadata": {},
   "source": [
    "读取sqlite文件\n"
   ]
  },
  {
   "cell_type": "markdown",
   "metadata": {},
   "source": [
    "导包sqlite3\n"
   ]
  },
  {
   "cell_type": "markdown",
   "metadata": {},
   "source": [
    "读取table  \n",
    " pd.read_sql(\"sql语句\", con)"
   ]
  },
  {
   "cell_type": "markdown",
   "metadata": {},
   "source": [
    "设置行索引index_col"
   ]
  },
  {
   "cell_type": "code",
   "execution_count": 25,
   "metadata": {
    "collapsed": true
   },
   "outputs": [
    {
     "ename": "DatabaseError",
     "evalue": "Execution failed on sql 'select ~Date/Time~ from Weather_2017': near \"~\": syntax error",
     "output_type": "error",
     "traceback": [
      "\u001b[1;31m---------------------------------------------------------------------------\u001b[0m",
      "\u001b[1;31mOperationalError\u001b[0m                          Traceback (most recent call last)",
      "\u001b[1;32mD:\\Anaconda\\lib\\site-packages\\pandas\\io\\sql.py\u001b[0m in \u001b[0;36mexecute\u001b[1;34m(self, *args, **kwargs)\u001b[0m\n\u001b[0;32m   1585\u001b[0m         \u001b[1;32mtry\u001b[0m\u001b[1;33m:\u001b[0m\u001b[1;33m\u001b[0m\u001b[1;33m\u001b[0m\u001b[0m\n\u001b[1;32m-> 1586\u001b[1;33m             \u001b[0mcur\u001b[0m\u001b[1;33m.\u001b[0m\u001b[0mexecute\u001b[0m\u001b[1;33m(\u001b[0m\u001b[1;33m*\u001b[0m\u001b[0margs\u001b[0m\u001b[1;33m,\u001b[0m \u001b[1;33m**\u001b[0m\u001b[0mkwargs\u001b[0m\u001b[1;33m)\u001b[0m\u001b[1;33m\u001b[0m\u001b[1;33m\u001b[0m\u001b[0m\n\u001b[0m\u001b[0;32m   1587\u001b[0m             \u001b[1;32mreturn\u001b[0m \u001b[0mcur\u001b[0m\u001b[1;33m\u001b[0m\u001b[1;33m\u001b[0m\u001b[0m\n",
      "\u001b[1;31mOperationalError\u001b[0m: near \"~\": syntax error",
      "\nThe above exception was the direct cause of the following exception:\n",
      "\u001b[1;31mDatabaseError\u001b[0m                             Traceback (most recent call last)",
      "\u001b[1;32m<ipython-input-25-9e0adcab9920>\u001b[0m in \u001b[0;36m<module>\u001b[1;34m\u001b[0m\n\u001b[0;32m      1\u001b[0m \u001b[1;31m#读数据，只读一部分数据\u001b[0m\u001b[1;33m\u001b[0m\u001b[1;33m\u001b[0m\u001b[1;33m\u001b[0m\u001b[0m\n\u001b[1;32m----> 2\u001b[1;33m \u001b[0mdf\u001b[0m \u001b[1;33m=\u001b[0m\u001b[0mpd\u001b[0m\u001b[1;33m.\u001b[0m\u001b[0mread_sql\u001b[0m\u001b[1;33m(\u001b[0m\u001b[1;34m'select ~Date/Time~ from Weather_2017'\u001b[0m\u001b[1;33m,\u001b[0m \u001b[0mconn\u001b[0m\u001b[1;33m)\u001b[0m\u001b[1;33m\u001b[0m\u001b[1;33m\u001b[0m\u001b[0m\n\u001b[0m",
      "\u001b[1;32mD:\\Anaconda\\lib\\site-packages\\pandas\\io\\sql.py\u001b[0m in \u001b[0;36mread_sql\u001b[1;34m(sql, con, index_col, coerce_float, params, parse_dates, columns, chunksize)\u001b[0m\n\u001b[0;32m    410\u001b[0m             \u001b[0mcoerce_float\u001b[0m\u001b[1;33m=\u001b[0m\u001b[0mcoerce_float\u001b[0m\u001b[1;33m,\u001b[0m\u001b[1;33m\u001b[0m\u001b[1;33m\u001b[0m\u001b[0m\n\u001b[0;32m    411\u001b[0m             \u001b[0mparse_dates\u001b[0m\u001b[1;33m=\u001b[0m\u001b[0mparse_dates\u001b[0m\u001b[1;33m,\u001b[0m\u001b[1;33m\u001b[0m\u001b[1;33m\u001b[0m\u001b[0m\n\u001b[1;32m--> 412\u001b[1;33m             \u001b[0mchunksize\u001b[0m\u001b[1;33m=\u001b[0m\u001b[0mchunksize\u001b[0m\u001b[1;33m,\u001b[0m\u001b[1;33m\u001b[0m\u001b[1;33m\u001b[0m\u001b[0m\n\u001b[0m\u001b[0;32m    413\u001b[0m         )\n\u001b[0;32m    414\u001b[0m \u001b[1;33m\u001b[0m\u001b[0m\n",
      "\u001b[1;32mD:\\Anaconda\\lib\\site-packages\\pandas\\io\\sql.py\u001b[0m in \u001b[0;36mread_query\u001b[1;34m(self, sql, index_col, coerce_float, params, parse_dates, chunksize)\u001b[0m\n\u001b[0;32m   1631\u001b[0m \u001b[1;33m\u001b[0m\u001b[0m\n\u001b[0;32m   1632\u001b[0m         \u001b[0margs\u001b[0m \u001b[1;33m=\u001b[0m \u001b[0m_convert_params\u001b[0m\u001b[1;33m(\u001b[0m\u001b[0msql\u001b[0m\u001b[1;33m,\u001b[0m \u001b[0mparams\u001b[0m\u001b[1;33m)\u001b[0m\u001b[1;33m\u001b[0m\u001b[1;33m\u001b[0m\u001b[0m\n\u001b[1;32m-> 1633\u001b[1;33m         \u001b[0mcursor\u001b[0m \u001b[1;33m=\u001b[0m \u001b[0mself\u001b[0m\u001b[1;33m.\u001b[0m\u001b[0mexecute\u001b[0m\u001b[1;33m(\u001b[0m\u001b[1;33m*\u001b[0m\u001b[0margs\u001b[0m\u001b[1;33m)\u001b[0m\u001b[1;33m\u001b[0m\u001b[1;33m\u001b[0m\u001b[0m\n\u001b[0m\u001b[0;32m   1634\u001b[0m         \u001b[0mcolumns\u001b[0m \u001b[1;33m=\u001b[0m \u001b[1;33m[\u001b[0m\u001b[0mcol_desc\u001b[0m\u001b[1;33m[\u001b[0m\u001b[1;36m0\u001b[0m\u001b[1;33m]\u001b[0m \u001b[1;32mfor\u001b[0m \u001b[0mcol_desc\u001b[0m \u001b[1;32min\u001b[0m \u001b[0mcursor\u001b[0m\u001b[1;33m.\u001b[0m\u001b[0mdescription\u001b[0m\u001b[1;33m]\u001b[0m\u001b[1;33m\u001b[0m\u001b[1;33m\u001b[0m\u001b[0m\n\u001b[0;32m   1635\u001b[0m \u001b[1;33m\u001b[0m\u001b[0m\n",
      "\u001b[1;32mD:\\Anaconda\\lib\\site-packages\\pandas\\io\\sql.py\u001b[0m in \u001b[0;36mexecute\u001b[1;34m(self, *args, **kwargs)\u001b[0m\n\u001b[0;32m   1596\u001b[0m \u001b[1;33m\u001b[0m\u001b[0m\n\u001b[0;32m   1597\u001b[0m             \u001b[0mex\u001b[0m \u001b[1;33m=\u001b[0m \u001b[0mDatabaseError\u001b[0m\u001b[1;33m(\u001b[0m\u001b[1;34mf\"Execution failed on sql '{args[0]}': {exc}\"\u001b[0m\u001b[1;33m)\u001b[0m\u001b[1;33m\u001b[0m\u001b[1;33m\u001b[0m\u001b[0m\n\u001b[1;32m-> 1598\u001b[1;33m             \u001b[1;32mraise\u001b[0m \u001b[0mex\u001b[0m \u001b[1;32mfrom\u001b[0m \u001b[0mexc\u001b[0m\u001b[1;33m\u001b[0m\u001b[1;33m\u001b[0m\u001b[0m\n\u001b[0m\u001b[0;32m   1599\u001b[0m \u001b[1;33m\u001b[0m\u001b[0m\n\u001b[0;32m   1600\u001b[0m     \u001b[1;33m@\u001b[0m\u001b[0mstaticmethod\u001b[0m\u001b[1;33m\u001b[0m\u001b[1;33m\u001b[0m\u001b[0m\n",
      "\u001b[1;31mDatabaseError\u001b[0m: Execution failed on sql 'select ~Date/Time~ from Weather_2017': near \"~\": syntax error"
     ]
    }
   ],
   "source": [
    "#读数据，只读一部分数据\n",
    "df =pd.read_sql('select ~Date/Time~ from Weather_2017', conn)"
   ]
  },
  {
   "cell_type": "markdown",
   "metadata": {},
   "source": [
    "写入sql文件"
   ]
  },
  {
   "cell_type": "code",
   "execution_count": 31,
   "metadata": {
    "collapsed": true
   },
   "outputs": [
    {
     "data": {
      "text/plain": [
       "[        代码    简称        截至日期  家数   本期持股数(万股)  持股占已流通A股比例(%)   同上期增减(万股)  \\\n",
       " 0   600006  东风汽车  2022-09-30   1    370.1862           0.19     15.2500   \n",
       " 1   600008  首创环保  2022-09-30   2   3386.1583           0.46  -1664.0700   \n",
       " 2   600009  上海机场  2022-09-30   1   1039.9911           0.42    -46.6800   \n",
       " 3   600010  包钢股份  2022-09-30   1  21039.6300           0.46  21039.6300   \n",
       " 4   600012  皖通高速  2022-09-30   2    639.3820           0.39    639.3820   \n",
       " 5   600026  中远海能  2022-09-30   2   3727.6773           0.78  -3738.5295   \n",
       " 6   600028  中国石化  2022-09-30   2  20213.8285           0.17   1528.0903   \n",
       " 7   600030  中信证券  2022-09-30   1  21424.4321           1.45   1471.8887   \n",
       " 8   600037  歌华有线  2022-09-30   1   1162.5564           0.84    121.5300   \n",
       " 9   600038  中直股份  2022-09-30   3   1300.0655           2.21    624.2697   \n",
       " 10  600054  黄山旅游  2022-09-30   3   1310.8842           1.80    250.5301   \n",
       " 11  600056  中国医药  2022-09-30   1    359.9617           0.24     17.5920   \n",
       " 12  600059  古越龙山  2022-09-30   2   1135.5892           1.25    544.9475   \n",
       " 13  600060  海信视像  2022-09-30   6   7943.0632           6.07   -586.8978   \n",
       " 14  600061  国投资本  2022-09-30   1   5490.3479           0.85    170.9600   \n",
       " 15  600062  华润双鹤  2022-09-30   2    542.1460           0.52    358.2600   \n",
       " 16  600066  宇通客车  2022-09-30   1   1365.9943           0.62    159.4600   \n",
       " 17  600067  冠城大通  2022-09-30   1    607.4400           0.44   -396.5000   \n",
       " 18  600072  中船科技  2022-09-30   3   2144.6133           2.91   1337.9173   \n",
       " 19  600073  上海梅林  2022-09-30   1   1757.3760           1.87  -1639.6014   \n",
       " 20  600075  新疆天业  2022-09-30   4   3085.7162           1.81     71.9034   \n",
       " 21  600077  宋都股份  2022-09-30   1    418.0315           0.31   -287.9600   \n",
       " 22  600079  人福医药  2022-09-30   3   3760.5839           2.30   1747.3371   \n",
       " 23  600085   同仁堂  2022-09-30   4   9293.5468           6.78   -103.9371   \n",
       " 24  601975  招商南油  2022-09-30   3  13520.3266           2.79   9002.2258   \n",
       " 25  600095  湘财股份  2022-09-30   2   3174.5402           1.11   1502.0242   \n",
       " 26  600096   云天化  2022-09-30   1    610.7455           0.33   -369.9745   \n",
       " 27  600097  开创国际  2022-09-30   1    138.7200           0.58    138.7200   \n",
       " 28  600104  上汽集团  2022-09-30   1   4343.7147           0.37   4343.7147   \n",
       " 29  600105  永鼎股份  2022-09-30   2    757.5710           0.54    757.5710   \n",
       " 30  600109  国金证券  2022-09-30   2   8287.4337           2.23   1080.0900   \n",
       " 31  600110  诺德股份  2022-09-30   3   2044.5761           1.17  -2573.5000   \n",
       " 32  600111  北方稀土  2022-09-30   2   2275.7826           0.63  -1583.8442   \n",
       " 33  600118  中国卫星  2022-09-30   3   1127.9562           0.95   -463.7387   \n",
       " 34  600121  郑州煤电  2022-09-30   3   1993.3511           1.64   -297.7552   \n",
       " 35  600123  兰花科创  2022-09-30   4   1936.6637           1.70   -773.1569   \n",
       " 36  600129  太极集团  2022-09-30   5   4618.3792           8.29   2696.9608   \n",
       " 37  600131  国网信通  2022-09-30   3   5371.7270           4.49  -2309.6742   \n",
       " 38  600132  重庆啤酒  2022-09-30   5   2432.4470           5.03   -212.2833   \n",
       " 39  600138   中青旅  2022-09-30   5   2987.4558           4.13   -638.8179   \n",
       " \n",
       "     持股比例(%)  上期家数     明细  \n",
       " 0      0.18     1  +展开明细  \n",
       " 1      0.69     3  +展开明细  \n",
       " 2      0.56     1  +展开明细  \n",
       " 3      0.00     0  +展开明细  \n",
       " 4      0.00     0  +展开明细  \n",
       " 5      1.56     3  +展开明细  \n",
       " 6      0.15     2  +展开明细  \n",
       " 7      1.35     1  +展开明细  \n",
       " 8      0.75     1  +展开明细  \n",
       " 9      1.15     2  +展开明细  \n",
       " 10     1.45     3  +展开明细  \n",
       " 11     0.23     1  +展开明细  \n",
       " 12     0.65     1  +展开明细  \n",
       " 13     6.52     7  +展开明细  \n",
       " 14     0.83     1  +展开明细  \n",
       " 15     0.18     1  +展开明细  \n",
       " 16     0.54     1  +展开明细  \n",
       " 17     0.72     1  +展开明细  \n",
       " 18     1.10     2  +展开明细  \n",
       " 19     3.62     2  +展开明细  \n",
       " 20     1.77     4  +展开明细  \n",
       " 21     0.53     1  +展开明细  \n",
       " 22     1.23     1  +展开明细  \n",
       " 23     6.85     4  +展开明细  \n",
       " 24     0.93     1  +展开明细  \n",
       " 25     0.59     1  +展开明细  \n",
       " 26     0.53     2  +展开明细  \n",
       " 27     0.00     0  +展开明细  \n",
       " 28     0.00     0  +展开明细  \n",
       " 29     0.00     0  +展开明细  \n",
       " 30     1.94     2  +展开明细  \n",
       " 31     2.65     5  +展开明细  \n",
       " 32     1.06     4  +展开明细  \n",
       " 33     1.35     4  +展开明细  \n",
       " 34     1.88     3  +展开明细  \n",
       " 35     2.37     5  +展开明细  \n",
       " 36     3.45     2  +展开明细  \n",
       " 37     6.43     4  +展开明细  \n",
       " 38     5.46     6  +展开明细  \n",
       " 39     5.01     5  +展开明细  ,\n",
       "       0     1         2              3          4        5          6\n",
       " 0  基金代码  基金名称  本期持有(万股)  持股占已流通A股比例(%)  同上期增减(万股)  持股比例(%)  持股比例增幅(%),\n",
       "       0     1         2              3          4        5          6\n",
       " 0  基金代码  基金名称  本期持有(万股)  持股占已流通A股比例(%)  同上期增减(万股)  持股比例(%)  持股比例增幅(%),\n",
       "       0     1         2              3          4        5          6\n",
       " 0  基金代码  基金名称  本期持有(万股)  持股占已流通A股比例(%)  同上期增减(万股)  持股比例(%)  持股比例增幅(%),\n",
       "       0     1         2              3          4        5          6\n",
       " 0  基金代码  基金名称  本期持有(万股)  持股占已流通A股比例(%)  同上期增减(万股)  持股比例(%)  持股比例增幅(%),\n",
       "       0     1         2              3          4        5          6\n",
       " 0  基金代码  基金名称  本期持有(万股)  持股占已流通A股比例(%)  同上期增减(万股)  持股比例(%)  持股比例增幅(%),\n",
       "       0     1         2              3          4        5          6\n",
       " 0  基金代码  基金名称  本期持有(万股)  持股占已流通A股比例(%)  同上期增减(万股)  持股比例(%)  持股比例增幅(%),\n",
       "       0     1         2              3          4        5          6\n",
       " 0  基金代码  基金名称  本期持有(万股)  持股占已流通A股比例(%)  同上期增减(万股)  持股比例(%)  持股比例增幅(%),\n",
       "       0     1         2              3          4        5          6\n",
       " 0  基金代码  基金名称  本期持有(万股)  持股占已流通A股比例(%)  同上期增减(万股)  持股比例(%)  持股比例增幅(%),\n",
       "       0     1         2              3          4        5          6\n",
       " 0  基金代码  基金名称  本期持有(万股)  持股占已流通A股比例(%)  同上期增减(万股)  持股比例(%)  持股比例增幅(%),\n",
       "       0     1         2              3          4        5          6\n",
       " 0  基金代码  基金名称  本期持有(万股)  持股占已流通A股比例(%)  同上期增减(万股)  持股比例(%)  持股比例增幅(%),\n",
       "       0     1         2              3          4        5          6\n",
       " 0  基金代码  基金名称  本期持有(万股)  持股占已流通A股比例(%)  同上期增减(万股)  持股比例(%)  持股比例增幅(%),\n",
       "       0     1         2              3          4        5          6\n",
       " 0  基金代码  基金名称  本期持有(万股)  持股占已流通A股比例(%)  同上期增减(万股)  持股比例(%)  持股比例增幅(%),\n",
       "       0     1         2              3          4        5          6\n",
       " 0  基金代码  基金名称  本期持有(万股)  持股占已流通A股比例(%)  同上期增减(万股)  持股比例(%)  持股比例增幅(%),\n",
       "       0     1         2              3          4        5          6\n",
       " 0  基金代码  基金名称  本期持有(万股)  持股占已流通A股比例(%)  同上期增减(万股)  持股比例(%)  持股比例增幅(%),\n",
       "       0     1         2              3          4        5          6\n",
       " 0  基金代码  基金名称  本期持有(万股)  持股占已流通A股比例(%)  同上期增减(万股)  持股比例(%)  持股比例增幅(%),\n",
       "       0     1         2              3          4        5          6\n",
       " 0  基金代码  基金名称  本期持有(万股)  持股占已流通A股比例(%)  同上期增减(万股)  持股比例(%)  持股比例增幅(%),\n",
       "       0     1         2              3          4        5          6\n",
       " 0  基金代码  基金名称  本期持有(万股)  持股占已流通A股比例(%)  同上期增减(万股)  持股比例(%)  持股比例增幅(%),\n",
       "       0     1         2              3          4        5          6\n",
       " 0  基金代码  基金名称  本期持有(万股)  持股占已流通A股比例(%)  同上期增减(万股)  持股比例(%)  持股比例增幅(%),\n",
       "       0     1         2              3          4        5          6\n",
       " 0  基金代码  基金名称  本期持有(万股)  持股占已流通A股比例(%)  同上期增减(万股)  持股比例(%)  持股比例增幅(%),\n",
       "       0     1         2              3          4        5          6\n",
       " 0  基金代码  基金名称  本期持有(万股)  持股占已流通A股比例(%)  同上期增减(万股)  持股比例(%)  持股比例增幅(%),\n",
       "       0     1         2              3          4        5          6\n",
       " 0  基金代码  基金名称  本期持有(万股)  持股占已流通A股比例(%)  同上期增减(万股)  持股比例(%)  持股比例增幅(%),\n",
       "       0     1         2              3          4        5          6\n",
       " 0  基金代码  基金名称  本期持有(万股)  持股占已流通A股比例(%)  同上期增减(万股)  持股比例(%)  持股比例增幅(%),\n",
       "       0     1         2              3          4        5          6\n",
       " 0  基金代码  基金名称  本期持有(万股)  持股占已流通A股比例(%)  同上期增减(万股)  持股比例(%)  持股比例增幅(%),\n",
       "       0     1         2              3          4        5          6\n",
       " 0  基金代码  基金名称  本期持有(万股)  持股占已流通A股比例(%)  同上期增减(万股)  持股比例(%)  持股比例增幅(%),\n",
       "       0     1         2              3          4        5          6\n",
       " 0  基金代码  基金名称  本期持有(万股)  持股占已流通A股比例(%)  同上期增减(万股)  持股比例(%)  持股比例增幅(%),\n",
       "       0     1         2              3          4        5          6\n",
       " 0  基金代码  基金名称  本期持有(万股)  持股占已流通A股比例(%)  同上期增减(万股)  持股比例(%)  持股比例增幅(%),\n",
       "       0     1         2              3          4        5          6\n",
       " 0  基金代码  基金名称  本期持有(万股)  持股占已流通A股比例(%)  同上期增减(万股)  持股比例(%)  持股比例增幅(%),\n",
       "       0     1         2              3          4        5          6\n",
       " 0  基金代码  基金名称  本期持有(万股)  持股占已流通A股比例(%)  同上期增减(万股)  持股比例(%)  持股比例增幅(%),\n",
       "       0     1         2              3          4        5          6\n",
       " 0  基金代码  基金名称  本期持有(万股)  持股占已流通A股比例(%)  同上期增减(万股)  持股比例(%)  持股比例增幅(%),\n",
       "       0     1         2              3          4        5          6\n",
       " 0  基金代码  基金名称  本期持有(万股)  持股占已流通A股比例(%)  同上期增减(万股)  持股比例(%)  持股比例增幅(%),\n",
       "       0     1         2              3          4        5          6\n",
       " 0  基金代码  基金名称  本期持有(万股)  持股占已流通A股比例(%)  同上期增减(万股)  持股比例(%)  持股比例增幅(%),\n",
       "       0     1         2              3          4        5          6\n",
       " 0  基金代码  基金名称  本期持有(万股)  持股占已流通A股比例(%)  同上期增减(万股)  持股比例(%)  持股比例增幅(%),\n",
       "       0     1         2              3          4        5          6\n",
       " 0  基金代码  基金名称  本期持有(万股)  持股占已流通A股比例(%)  同上期增减(万股)  持股比例(%)  持股比例增幅(%),\n",
       "       0     1         2              3          4        5          6\n",
       " 0  基金代码  基金名称  本期持有(万股)  持股占已流通A股比例(%)  同上期增减(万股)  持股比例(%)  持股比例增幅(%),\n",
       "       0     1         2              3          4        5          6\n",
       " 0  基金代码  基金名称  本期持有(万股)  持股占已流通A股比例(%)  同上期增减(万股)  持股比例(%)  持股比例增幅(%),\n",
       "       0     1         2              3          4        5          6\n",
       " 0  基金代码  基金名称  本期持有(万股)  持股占已流通A股比例(%)  同上期增减(万股)  持股比例(%)  持股比例增幅(%),\n",
       "       0     1         2              3          4        5          6\n",
       " 0  基金代码  基金名称  本期持有(万股)  持股占已流通A股比例(%)  同上期增减(万股)  持股比例(%)  持股比例增幅(%),\n",
       "       0     1         2              3          4        5          6\n",
       " 0  基金代码  基金名称  本期持有(万股)  持股占已流通A股比例(%)  同上期增减(万股)  持股比例(%)  持股比例增幅(%),\n",
       "       0     1         2              3          4        5          6\n",
       " 0  基金代码  基金名称  本期持有(万股)  持股占已流通A股比例(%)  同上期增减(万股)  持股比例(%)  持股比例增幅(%),\n",
       "       0     1         2              3          4        5          6\n",
       " 0  基金代码  基金名称  本期持有(万股)  持股占已流通A股比例(%)  同上期增减(万股)  持股比例(%)  持股比例增幅(%)]"
      ]
     },
     "execution_count": 31,
     "metadata": {},
     "output_type": "execute_result"
    }
   ],
   "source": [
    "pd.read_html ('http://vip.stock.finance.sina.com.cn/q/go.php/vComStockHold/kind/jjzc/index.phtml')"
   ]
  },
  {
   "cell_type": "markdown",
   "metadata": {},
   "source": [
    "根据url获取网络上的数据"
   ]
  },
  {
   "cell_type": "code",
   "execution_count": 35,
   "metadata": {},
   "outputs": [
    {
     "ename": "ValueError",
     "evalue": "No tables found",
     "output_type": "error",
     "traceback": [
      "\u001b[1;31m---------------------------------------------------------------------------\u001b[0m",
      "\u001b[1;31mValueError\u001b[0m                                Traceback (most recent call last)",
      "\u001b[1;32m<ipython-input-35-e97e7581cbf9>\u001b[0m in \u001b[0;36m<module>\u001b[1;34m\u001b[0m\n\u001b[1;32m----> 1\u001b[1;33m \u001b[0mpd\u001b[0m\u001b[1;33m.\u001b[0m\u001b[0mread_html\u001b[0m\u001b[1;33m(\u001b[0m\u001b[1;34m'https://pandas.pydata.org/pandas-docs/stable/reference/api/pandas.read_html.html#pandas.read_html'\u001b[0m\u001b[1;33m)\u001b[0m\u001b[1;33m\u001b[0m\u001b[1;33m\u001b[0m\u001b[0m\n\u001b[0m",
      "\u001b[1;32mD:\\Anaconda\\lib\\site-packages\\pandas\\io\\html.py\u001b[0m in \u001b[0;36mread_html\u001b[1;34m(io, match, flavor, header, index_col, skiprows, attrs, parse_dates, thousands, encoding, decimal, converters, na_values, keep_default_na, displayed_only)\u001b[0m\n\u001b[0;32m   1098\u001b[0m         \u001b[0mna_values\u001b[0m\u001b[1;33m=\u001b[0m\u001b[0mna_values\u001b[0m\u001b[1;33m,\u001b[0m\u001b[1;33m\u001b[0m\u001b[1;33m\u001b[0m\u001b[0m\n\u001b[0;32m   1099\u001b[0m         \u001b[0mkeep_default_na\u001b[0m\u001b[1;33m=\u001b[0m\u001b[0mkeep_default_na\u001b[0m\u001b[1;33m,\u001b[0m\u001b[1;33m\u001b[0m\u001b[1;33m\u001b[0m\u001b[0m\n\u001b[1;32m-> 1100\u001b[1;33m         \u001b[0mdisplayed_only\u001b[0m\u001b[1;33m=\u001b[0m\u001b[0mdisplayed_only\u001b[0m\u001b[1;33m,\u001b[0m\u001b[1;33m\u001b[0m\u001b[1;33m\u001b[0m\u001b[0m\n\u001b[0m\u001b[0;32m   1101\u001b[0m     )\n",
      "\u001b[1;32mD:\\Anaconda\\lib\\site-packages\\pandas\\io\\html.py\u001b[0m in \u001b[0;36m_parse\u001b[1;34m(flavor, io, match, attrs, encoding, displayed_only, **kwargs)\u001b[0m\n\u001b[0;32m    913\u001b[0m             \u001b[1;32mbreak\u001b[0m\u001b[1;33m\u001b[0m\u001b[1;33m\u001b[0m\u001b[0m\n\u001b[0;32m    914\u001b[0m     \u001b[1;32melse\u001b[0m\u001b[1;33m:\u001b[0m\u001b[1;33m\u001b[0m\u001b[1;33m\u001b[0m\u001b[0m\n\u001b[1;32m--> 915\u001b[1;33m         \u001b[1;32mraise\u001b[0m \u001b[0mretained\u001b[0m\u001b[1;33m\u001b[0m\u001b[1;33m\u001b[0m\u001b[0m\n\u001b[0m\u001b[0;32m    916\u001b[0m \u001b[1;33m\u001b[0m\u001b[0m\n\u001b[0;32m    917\u001b[0m     \u001b[0mret\u001b[0m \u001b[1;33m=\u001b[0m \u001b[1;33m[\u001b[0m\u001b[1;33m]\u001b[0m\u001b[1;33m\u001b[0m\u001b[1;33m\u001b[0m\u001b[0m\n",
      "\u001b[1;32mD:\\Anaconda\\lib\\site-packages\\pandas\\io\\html.py\u001b[0m in \u001b[0;36m_parse\u001b[1;34m(flavor, io, match, attrs, encoding, displayed_only, **kwargs)\u001b[0m\n\u001b[0;32m    893\u001b[0m \u001b[1;33m\u001b[0m\u001b[0m\n\u001b[0;32m    894\u001b[0m         \u001b[1;32mtry\u001b[0m\u001b[1;33m:\u001b[0m\u001b[1;33m\u001b[0m\u001b[1;33m\u001b[0m\u001b[0m\n\u001b[1;32m--> 895\u001b[1;33m             \u001b[0mtables\u001b[0m \u001b[1;33m=\u001b[0m \u001b[0mp\u001b[0m\u001b[1;33m.\u001b[0m\u001b[0mparse_tables\u001b[0m\u001b[1;33m(\u001b[0m\u001b[1;33m)\u001b[0m\u001b[1;33m\u001b[0m\u001b[1;33m\u001b[0m\u001b[0m\n\u001b[0m\u001b[0;32m    896\u001b[0m         \u001b[1;32mexcept\u001b[0m \u001b[0mValueError\u001b[0m \u001b[1;32mas\u001b[0m \u001b[0mcaught\u001b[0m\u001b[1;33m:\u001b[0m\u001b[1;33m\u001b[0m\u001b[1;33m\u001b[0m\u001b[0m\n\u001b[0;32m    897\u001b[0m             \u001b[1;31m# if `io` is an io-like object, check if it's seekable\u001b[0m\u001b[1;33m\u001b[0m\u001b[1;33m\u001b[0m\u001b[1;33m\u001b[0m\u001b[0m\n",
      "\u001b[1;32mD:\\Anaconda\\lib\\site-packages\\pandas\\io\\html.py\u001b[0m in \u001b[0;36mparse_tables\u001b[1;34m(self)\u001b[0m\n\u001b[0;32m    211\u001b[0m         \u001b[0mlist\u001b[0m \u001b[0mof\u001b[0m \u001b[0mparsed\u001b[0m \u001b[1;33m(\u001b[0m\u001b[0mheader\u001b[0m\u001b[1;33m,\u001b[0m \u001b[0mbody\u001b[0m\u001b[1;33m,\u001b[0m \u001b[0mfooter\u001b[0m\u001b[1;33m)\u001b[0m \u001b[0mtuples\u001b[0m \u001b[1;32mfrom\u001b[0m \u001b[0mtables\u001b[0m\u001b[1;33m.\u001b[0m\u001b[1;33m\u001b[0m\u001b[1;33m\u001b[0m\u001b[0m\n\u001b[0;32m    212\u001b[0m         \"\"\"\n\u001b[1;32m--> 213\u001b[1;33m         \u001b[0mtables\u001b[0m \u001b[1;33m=\u001b[0m \u001b[0mself\u001b[0m\u001b[1;33m.\u001b[0m\u001b[0m_parse_tables\u001b[0m\u001b[1;33m(\u001b[0m\u001b[0mself\u001b[0m\u001b[1;33m.\u001b[0m\u001b[0m_build_doc\u001b[0m\u001b[1;33m(\u001b[0m\u001b[1;33m)\u001b[0m\u001b[1;33m,\u001b[0m \u001b[0mself\u001b[0m\u001b[1;33m.\u001b[0m\u001b[0mmatch\u001b[0m\u001b[1;33m,\u001b[0m \u001b[0mself\u001b[0m\u001b[1;33m.\u001b[0m\u001b[0mattrs\u001b[0m\u001b[1;33m)\u001b[0m\u001b[1;33m\u001b[0m\u001b[1;33m\u001b[0m\u001b[0m\n\u001b[0m\u001b[0;32m    214\u001b[0m         \u001b[1;32mreturn\u001b[0m \u001b[1;33m(\u001b[0m\u001b[0mself\u001b[0m\u001b[1;33m.\u001b[0m\u001b[0m_parse_thead_tbody_tfoot\u001b[0m\u001b[1;33m(\u001b[0m\u001b[0mtable\u001b[0m\u001b[1;33m)\u001b[0m \u001b[1;32mfor\u001b[0m \u001b[0mtable\u001b[0m \u001b[1;32min\u001b[0m \u001b[0mtables\u001b[0m\u001b[1;33m)\u001b[0m\u001b[1;33m\u001b[0m\u001b[1;33m\u001b[0m\u001b[0m\n\u001b[0;32m    215\u001b[0m \u001b[1;33m\u001b[0m\u001b[0m\n",
      "\u001b[1;32mD:\\Anaconda\\lib\\site-packages\\pandas\\io\\html.py\u001b[0m in \u001b[0;36m_parse_tables\u001b[1;34m(self, doc, match, attrs)\u001b[0m\n\u001b[0;32m    543\u001b[0m \u001b[1;33m\u001b[0m\u001b[0m\n\u001b[0;32m    544\u001b[0m         \u001b[1;32mif\u001b[0m \u001b[1;32mnot\u001b[0m \u001b[0mtables\u001b[0m\u001b[1;33m:\u001b[0m\u001b[1;33m\u001b[0m\u001b[1;33m\u001b[0m\u001b[0m\n\u001b[1;32m--> 545\u001b[1;33m             \u001b[1;32mraise\u001b[0m \u001b[0mValueError\u001b[0m\u001b[1;33m(\u001b[0m\u001b[1;34m\"No tables found\"\u001b[0m\u001b[1;33m)\u001b[0m\u001b[1;33m\u001b[0m\u001b[1;33m\u001b[0m\u001b[0m\n\u001b[0m\u001b[0;32m    546\u001b[0m \u001b[1;33m\u001b[0m\u001b[0m\n\u001b[0;32m    547\u001b[0m         \u001b[0mresult\u001b[0m \u001b[1;33m=\u001b[0m \u001b[1;33m[\u001b[0m\u001b[1;33m]\u001b[0m\u001b[1;33m\u001b[0m\u001b[1;33m\u001b[0m\u001b[0m\n",
      "\u001b[1;31mValueError\u001b[0m: No tables found"
     ]
    }
   ],
   "source": [
    "pd.read_html('https://pandas.pydata.org/pandas-docs/stable/reference/api/pandas.read_html.html#pandas.read_html')"
   ]
  },
  {
   "cell_type": "code",
   "execution_count": null,
   "metadata": {},
   "outputs": [],
   "source": []
  }
 ],
 "metadata": {
  "kernelspec": {
   "display_name": "Python 3",
   "language": "python",
   "name": "python3"
  },
  "language_info": {
   "codemirror_mode": {
    "name": "ipython",
    "version": 3
   },
   "file_extension": ".py",
   "mimetype": "text/x-python",
   "name": "python",
   "nbconvert_exporter": "python",
   "pygments_lexer": "ipython3",
   "version": "3.7.6"
  }
 },
 "nbformat": 4,
 "nbformat_minor": 2
}
