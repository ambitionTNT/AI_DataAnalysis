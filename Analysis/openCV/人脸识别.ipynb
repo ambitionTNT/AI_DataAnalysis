{
 "cells": [
  {
   "cell_type": "code",
   "execution_count": 55,
   "metadata": {},
   "outputs": [],
   "source": [
    "import numpy as np\n",
    "import cv2"
   ]
  },
  {
   "cell_type": "code",
   "execution_count": 57,
   "metadata": {},
   "outputs": [],
   "source": [
    "lena1 = cv2.imread('Test_images/nba2.jpg')\n",
    "\n",
    "#转换成黑背\n",
    "gray = cv2.cvtColor(lena1, code = cv2.COLOR_BGR2GRAY)\n",
    "#人脸数据，级联分类器，给人连特征数据，返回可以识别人连的对象\n",
    "detector = cv2.CascadeClassifier('haarcascade_frontalface_default.xml')\n"
   ]
  },
  {
   "cell_type": "code",
   "execution_count": 48,
   "metadata": {},
   "outputs": [
    {
     "data": {
      "text/plain": [
       "(640, 1024, 3)"
      ]
     },
     "execution_count": 48,
     "metadata": {},
     "output_type": "execute_result"
    }
   ],
   "source": [
    "lena1.shape"
   ]
  },
  {
   "cell_type": "code",
   "execution_count": 63,
   "metadata": {},
   "outputs": [
    {
     "data": {
      "text/plain": [
       "numpy.int32"
      ]
     },
     "execution_count": 63,
     "metadata": {},
     "output_type": "execute_result"
    }
   ],
   "source": [
    "type(np.random.randint(0, 255, size = 1)[0])"
   ]
  },
  {
   "cell_type": "code",
   "execution_count": 64,
   "metadata": {},
   "outputs": [],
   "source": [
    "#detectMultiScale随访\n",
    "face_zone = detector.detectMultiScale(gray, scaleFactor = 1.1, minNeighbors = 3, minSize = (50, 50), maxSize = (150, 150))\n",
    "face_zone\n",
    "# x,y 是左上角\n",
    "for x, y, w, h in face_zone:\n",
    "    cv2.rectangle(lena1, pt1 = (x, y), pt2 = (x + w, y + h), color = [0, 0, 255], thickness = 2)\n",
    "    color = np.random.randint(0, 255, size = 3)\n",
    "    cv2.circle(lena1, center = (x +w//2, y+h//2),radius = w//2, color = color.tolist(),thickness = 2)\n",
    "cv2.imshow('lena1', lena1)\n",
    "cv2.waitKey(0)\n",
    "cv2.destroyAllWindows()"
   ]
  }
 ],
 "metadata": {
  "kernelspec": {
   "display_name": "Python 3",
   "language": "python",
   "name": "python3"
  },
  "language_info": {
   "codemirror_mode": {
    "name": "ipython",
    "version": 3
   },
   "file_extension": ".py",
   "mimetype": "text/x-python",
   "name": "python",
   "nbconvert_exporter": "python",
   "pygments_lexer": "ipython3",
   "version": "3.7.6"
  }
 },
 "nbformat": 4,
 "nbformat_minor": 4
}
